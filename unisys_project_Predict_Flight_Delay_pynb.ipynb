{
  "nbformat": 4,
  "nbformat_minor": 0,
  "metadata": {
    "colab": {
      "name": "unisys project- Predict Flight Delay.pynb",
      "provenance": [],
      "collapsed_sections": [],
      "machine_shape": "hm",
      "include_colab_link": true
    },
    "kernelspec": {
      "name": "python3",
      "display_name": "Python 3"
    },
    "accelerator": "TPU"
  },
  "cells": [
    {
      "cell_type": "markdown",
      "metadata": {
        "id": "view-in-github",
        "colab_type": "text"
      },
      "source": [
        "<a href=\"https://colab.research.google.com/github/Ayu-Raj/Flight-Delay-Prediction/blob/master/unisys_project_Predict_Flight_Delay_pynb.ipynb\" target=\"_parent\"><img src=\"https://colab.research.google.com/assets/colab-badge.svg\" alt=\"Open In Colab\"/></a>"
      ]
    },
    {
      "cell_type": "markdown",
      "metadata": {
        "id": "AQUvwCKMFxGV",
        "colab_type": "text"
      },
      "source": [
        "# Mounting G-Drive for data set"
      ]
    },
    {
      "cell_type": "code",
      "metadata": {
        "id": "TQ5apyjD1a8d",
        "colab_type": "code",
        "colab": {
          "base_uri": "https://localhost:8080/",
          "height": 128
        },
        "outputId": "c878839a-e7dd-4507-81c1-59e0b56560d3"
      },
      "source": [
        "from google.colab import drive\n",
        "drive.mount('/content/gdrive')"
      ],
      "execution_count": null,
      "outputs": [
        {
          "output_type": "stream",
          "text": [
            "Go to this URL in a browser: https://accounts.google.com/o/oauth2/auth?client_id=947318989803-6bn6qk8qdgf4n4g3pfee6491hc0brc4i.apps.googleusercontent.com&redirect_uri=urn%3aietf%3awg%3aoauth%3a2.0%3aoob&response_type=code&scope=email%20https%3a%2f%2fwww.googleapis.com%2fauth%2fdocs.test%20https%3a%2f%2fwww.googleapis.com%2fauth%2fdrive%20https%3a%2f%2fwww.googleapis.com%2fauth%2fdrive.photos.readonly%20https%3a%2f%2fwww.googleapis.com%2fauth%2fpeopleapi.readonly\n",
            "\n",
            "Enter your authorization code:\n",
            "··········\n",
            "Mounted at /content/gdrive\n"
          ],
          "name": "stdout"
        }
      ]
    },
    {
      "cell_type": "markdown",
      "metadata": {
        "id": "D63kAZi2Fvlx",
        "colab_type": "text"
      },
      "source": [
        "# Importing Required Libraries"
      ]
    },
    {
      "cell_type": "code",
      "metadata": {
        "id": "gngNJ0Xk0zLK",
        "colab_type": "code",
        "colab": {
          "base_uri": "https://localhost:8080/",
          "height": 73
        },
        "outputId": "3516c7c7-b37b-485e-c4c8-88f04989c1fb"
      },
      "source": [
        "import datetime, warnings, scipy \n",
        "import pandas as pd\n",
        "import numpy as np\n",
        "import seaborn as sns\n",
        "import matplotlib as mpl\n",
        "import matplotlib.pyplot as plt\n",
        "import sklearn\n",
        "from matplotlib.gridspec import GridSpec\n",
        "from sklearn.linear_model import Ridge\n",
        "from sklearn import metrics, linear_model\n",
        "from sklearn import preprocessing\n",
        "from sklearn.preprocessing import PolynomialFeatures, StandardScaler\n",
        "from sklearn.preprocessing import LabelEncoder, OneHotEncoder\n",
        "from sklearn.model_selection import train_test_split, cross_val_score, cross_val_predict\n",
        "from scipy.optimize import curve_fit"
      ],
      "execution_count": null,
      "outputs": [
        {
          "output_type": "stream",
          "text": [
            "/usr/local/lib/python3.6/dist-packages/statsmodels/tools/_testing.py:19: FutureWarning: pandas.util.testing is deprecated. Use the functions in the public API at pandas.testing instead.\n",
            "  import pandas.util.testing as tm\n"
          ],
          "name": "stderr"
        }
      ]
    },
    {
      "cell_type": "markdown",
      "metadata": {
        "id": "VUV5yNHGGDMt",
        "colab_type": "text"
      },
      "source": [
        "# Read Data-Set"
      ]
    },
    {
      "cell_type": "code",
      "metadata": {
        "id": "EJ0mDXudzaVW",
        "colab_type": "code",
        "colab": {}
      },
      "source": [
        "airlines_data = pd.read_csv('/content/gdrive/My Drive/unisys/airlines.csv')"
      ],
      "execution_count": null,
      "outputs": []
    },
    {
      "cell_type": "code",
      "metadata": {
        "id": "XGbo33OA0wQO",
        "colab_type": "code",
        "colab": {
          "base_uri": "https://localhost:8080/",
          "height": 206
        },
        "outputId": "63d64beb-fd05-44c3-9fce-a3555e066356"
      },
      "source": [
        "airlines_data.head()"
      ],
      "execution_count": null,
      "outputs": [
        {
          "output_type": "execute_result",
          "data": {
            "text/html": [
              "<div>\n",
              "<style scoped>\n",
              "    .dataframe tbody tr th:only-of-type {\n",
              "        vertical-align: middle;\n",
              "    }\n",
              "\n",
              "    .dataframe tbody tr th {\n",
              "        vertical-align: top;\n",
              "    }\n",
              "\n",
              "    .dataframe thead th {\n",
              "        text-align: right;\n",
              "    }\n",
              "</style>\n",
              "<table border=\"1\" class=\"dataframe\">\n",
              "  <thead>\n",
              "    <tr style=\"text-align: right;\">\n",
              "      <th></th>\n",
              "      <th>IATA_CODE</th>\n",
              "      <th>AIRLINE</th>\n",
              "    </tr>\n",
              "  </thead>\n",
              "  <tbody>\n",
              "    <tr>\n",
              "      <th>0</th>\n",
              "      <td>UA</td>\n",
              "      <td>United Air Lines Inc.</td>\n",
              "    </tr>\n",
              "    <tr>\n",
              "      <th>1</th>\n",
              "      <td>AA</td>\n",
              "      <td>American Airlines Inc.</td>\n",
              "    </tr>\n",
              "    <tr>\n",
              "      <th>2</th>\n",
              "      <td>US</td>\n",
              "      <td>US Airways Inc.</td>\n",
              "    </tr>\n",
              "    <tr>\n",
              "      <th>3</th>\n",
              "      <td>F9</td>\n",
              "      <td>Frontier Airlines Inc.</td>\n",
              "    </tr>\n",
              "    <tr>\n",
              "      <th>4</th>\n",
              "      <td>B6</td>\n",
              "      <td>JetBlue Airways</td>\n",
              "    </tr>\n",
              "  </tbody>\n",
              "</table>\n",
              "</div>"
            ],
            "text/plain": [
              "  IATA_CODE                 AIRLINE\n",
              "0        UA   United Air Lines Inc.\n",
              "1        AA  American Airlines Inc.\n",
              "2        US         US Airways Inc.\n",
              "3        F9  Frontier Airlines Inc.\n",
              "4        B6         JetBlue Airways"
            ]
          },
          "metadata": {
            "tags": []
          },
          "execution_count": 6
        }
      ]
    },
    {
      "cell_type": "code",
      "metadata": {
        "id": "UAb0wTWS05c7",
        "colab_type": "code",
        "colab": {}
      },
      "source": [
        "airports = pd.read_csv('/content/gdrive/My Drive/unisys/airports.csv')"
      ],
      "execution_count": null,
      "outputs": []
    },
    {
      "cell_type": "code",
      "metadata": {
        "id": "LpW3QgZx1Cs0",
        "colab_type": "code",
        "colab": {
          "base_uri": "https://localhost:8080/",
          "height": 206
        },
        "outputId": "07b11f45-7ab8-41cd-e3af-f6e2d95bafa3"
      },
      "source": [
        "airports.head()"
      ],
      "execution_count": null,
      "outputs": [
        {
          "output_type": "execute_result",
          "data": {
            "text/html": [
              "<div>\n",
              "<style scoped>\n",
              "    .dataframe tbody tr th:only-of-type {\n",
              "        vertical-align: middle;\n",
              "    }\n",
              "\n",
              "    .dataframe tbody tr th {\n",
              "        vertical-align: top;\n",
              "    }\n",
              "\n",
              "    .dataframe thead th {\n",
              "        text-align: right;\n",
              "    }\n",
              "</style>\n",
              "<table border=\"1\" class=\"dataframe\">\n",
              "  <thead>\n",
              "    <tr style=\"text-align: right;\">\n",
              "      <th></th>\n",
              "      <th>IATA_CODE</th>\n",
              "      <th>AIRPORT</th>\n",
              "      <th>CITY</th>\n",
              "      <th>STATE</th>\n",
              "      <th>COUNTRY</th>\n",
              "      <th>LATITUDE</th>\n",
              "      <th>LONGITUDE</th>\n",
              "    </tr>\n",
              "  </thead>\n",
              "  <tbody>\n",
              "    <tr>\n",
              "      <th>0</th>\n",
              "      <td>ABE</td>\n",
              "      <td>Lehigh Valley International Airport</td>\n",
              "      <td>Allentown</td>\n",
              "      <td>PA</td>\n",
              "      <td>USA</td>\n",
              "      <td>40.65236</td>\n",
              "      <td>-75.44040</td>\n",
              "    </tr>\n",
              "    <tr>\n",
              "      <th>1</th>\n",
              "      <td>ABI</td>\n",
              "      <td>Abilene Regional Airport</td>\n",
              "      <td>Abilene</td>\n",
              "      <td>TX</td>\n",
              "      <td>USA</td>\n",
              "      <td>32.41132</td>\n",
              "      <td>-99.68190</td>\n",
              "    </tr>\n",
              "    <tr>\n",
              "      <th>2</th>\n",
              "      <td>ABQ</td>\n",
              "      <td>Albuquerque International Sunport</td>\n",
              "      <td>Albuquerque</td>\n",
              "      <td>NM</td>\n",
              "      <td>USA</td>\n",
              "      <td>35.04022</td>\n",
              "      <td>-106.60919</td>\n",
              "    </tr>\n",
              "    <tr>\n",
              "      <th>3</th>\n",
              "      <td>ABR</td>\n",
              "      <td>Aberdeen Regional Airport</td>\n",
              "      <td>Aberdeen</td>\n",
              "      <td>SD</td>\n",
              "      <td>USA</td>\n",
              "      <td>45.44906</td>\n",
              "      <td>-98.42183</td>\n",
              "    </tr>\n",
              "    <tr>\n",
              "      <th>4</th>\n",
              "      <td>ABY</td>\n",
              "      <td>Southwest Georgia Regional Airport</td>\n",
              "      <td>Albany</td>\n",
              "      <td>GA</td>\n",
              "      <td>USA</td>\n",
              "      <td>31.53552</td>\n",
              "      <td>-84.19447</td>\n",
              "    </tr>\n",
              "  </tbody>\n",
              "</table>\n",
              "</div>"
            ],
            "text/plain": [
              "  IATA_CODE                              AIRPORT  ...  LATITUDE  LONGITUDE\n",
              "0       ABE  Lehigh Valley International Airport  ...  40.65236  -75.44040\n",
              "1       ABI             Abilene Regional Airport  ...  32.41132  -99.68190\n",
              "2       ABQ    Albuquerque International Sunport  ...  35.04022 -106.60919\n",
              "3       ABR            Aberdeen Regional Airport  ...  45.44906  -98.42183\n",
              "4       ABY   Southwest Georgia Regional Airport  ...  31.53552  -84.19447\n",
              "\n",
              "[5 rows x 7 columns]"
            ]
          },
          "metadata": {
            "tags": []
          },
          "execution_count": 8
        }
      ]
    },
    {
      "cell_type": "code",
      "metadata": {
        "id": "0cnf__La1Fu7",
        "colab_type": "code",
        "colab": {
          "base_uri": "https://localhost:8080/",
          "height": 73
        },
        "outputId": "cf473229-36b4-44d1-bb7a-e2dad847a4ac"
      },
      "source": [
        "df = pd.read_csv('/content/gdrive/My Drive/unisys/flights.csv')"
      ],
      "execution_count": null,
      "outputs": [
        {
          "output_type": "stream",
          "text": [
            "/usr/local/lib/python3.6/dist-packages/IPython/core/interactiveshell.py:2718: DtypeWarning: Columns (7,8) have mixed types.Specify dtype option on import or set low_memory=False.\n",
            "  interactivity=interactivity, compiler=compiler, result=result)\n"
          ],
          "name": "stderr"
        }
      ]
    },
    {
      "cell_type": "code",
      "metadata": {
        "id": "k76VJKixrWRn",
        "colab_type": "code",
        "colab": {
          "base_uri": "https://localhost:8080/",
          "height": 444
        },
        "outputId": "56eb63e7-4b11-4952-e70c-faa781b8b99e"
      },
      "source": [
        "df"
      ],
      "execution_count": null,
      "outputs": [
        {
          "output_type": "execute_result",
          "data": {
            "text/html": [
              "<div>\n",
              "<style scoped>\n",
              "    .dataframe tbody tr th:only-of-type {\n",
              "        vertical-align: middle;\n",
              "    }\n",
              "\n",
              "    .dataframe tbody tr th {\n",
              "        vertical-align: top;\n",
              "    }\n",
              "\n",
              "    .dataframe thead th {\n",
              "        text-align: right;\n",
              "    }\n",
              "</style>\n",
              "<table border=\"1\" class=\"dataframe\">\n",
              "  <thead>\n",
              "    <tr style=\"text-align: right;\">\n",
              "      <th></th>\n",
              "      <th>YEAR</th>\n",
              "      <th>MONTH</th>\n",
              "      <th>DAY</th>\n",
              "      <th>DAY_OF_WEEK</th>\n",
              "      <th>AIRLINE</th>\n",
              "      <th>FLIGHT_NUMBER</th>\n",
              "      <th>TAIL_NUMBER</th>\n",
              "      <th>ORIGIN_AIRPORT</th>\n",
              "      <th>DESTINATION_AIRPORT</th>\n",
              "      <th>SCHEDULED_DEPARTURE</th>\n",
              "      <th>DEPARTURE_TIME</th>\n",
              "      <th>DEPARTURE_DELAY</th>\n",
              "      <th>TAXI_OUT</th>\n",
              "      <th>WHEELS_OFF</th>\n",
              "      <th>SCHEDULED_TIME</th>\n",
              "      <th>ELAPSED_TIME</th>\n",
              "      <th>AIR_TIME</th>\n",
              "      <th>DISTANCE</th>\n",
              "      <th>WHEELS_ON</th>\n",
              "      <th>TAXI_IN</th>\n",
              "      <th>SCHEDULED_ARRIVAL</th>\n",
              "      <th>ARRIVAL_TIME</th>\n",
              "      <th>ARRIVAL_DELAY</th>\n",
              "      <th>DIVERTED</th>\n",
              "      <th>CANCELLED</th>\n",
              "      <th>CANCELLATION_REASON</th>\n",
              "      <th>AIR_SYSTEM_DELAY</th>\n",
              "      <th>SECURITY_DELAY</th>\n",
              "      <th>AIRLINE_DELAY</th>\n",
              "      <th>LATE_AIRCRAFT_DELAY</th>\n",
              "      <th>WEATHER_DELAY</th>\n",
              "    </tr>\n",
              "  </thead>\n",
              "  <tbody>\n",
              "    <tr>\n",
              "      <th>0</th>\n",
              "      <td>2015</td>\n",
              "      <td>1</td>\n",
              "      <td>1</td>\n",
              "      <td>4</td>\n",
              "      <td>AS</td>\n",
              "      <td>98</td>\n",
              "      <td>N407AS</td>\n",
              "      <td>ANC</td>\n",
              "      <td>SEA</td>\n",
              "      <td>5</td>\n",
              "      <td>2354.0</td>\n",
              "      <td>-11.0</td>\n",
              "      <td>21.0</td>\n",
              "      <td>15.0</td>\n",
              "      <td>205.0</td>\n",
              "      <td>194.0</td>\n",
              "      <td>169.0</td>\n",
              "      <td>1448</td>\n",
              "      <td>404.0</td>\n",
              "      <td>4.0</td>\n",
              "      <td>430</td>\n",
              "      <td>408.0</td>\n",
              "      <td>-22.0</td>\n",
              "      <td>0</td>\n",
              "      <td>0</td>\n",
              "      <td>NaN</td>\n",
              "      <td>NaN</td>\n",
              "      <td>NaN</td>\n",
              "      <td>NaN</td>\n",
              "      <td>NaN</td>\n",
              "      <td>NaN</td>\n",
              "    </tr>\n",
              "    <tr>\n",
              "      <th>1</th>\n",
              "      <td>2015</td>\n",
              "      <td>1</td>\n",
              "      <td>1</td>\n",
              "      <td>4</td>\n",
              "      <td>AA</td>\n",
              "      <td>2336</td>\n",
              "      <td>N3KUAA</td>\n",
              "      <td>LAX</td>\n",
              "      <td>PBI</td>\n",
              "      <td>10</td>\n",
              "      <td>2.0</td>\n",
              "      <td>-8.0</td>\n",
              "      <td>12.0</td>\n",
              "      <td>14.0</td>\n",
              "      <td>280.0</td>\n",
              "      <td>279.0</td>\n",
              "      <td>263.0</td>\n",
              "      <td>2330</td>\n",
              "      <td>737.0</td>\n",
              "      <td>4.0</td>\n",
              "      <td>750</td>\n",
              "      <td>741.0</td>\n",
              "      <td>-9.0</td>\n",
              "      <td>0</td>\n",
              "      <td>0</td>\n",
              "      <td>NaN</td>\n",
              "      <td>NaN</td>\n",
              "      <td>NaN</td>\n",
              "      <td>NaN</td>\n",
              "      <td>NaN</td>\n",
              "      <td>NaN</td>\n",
              "    </tr>\n",
              "    <tr>\n",
              "      <th>2</th>\n",
              "      <td>2015</td>\n",
              "      <td>1</td>\n",
              "      <td>1</td>\n",
              "      <td>4</td>\n",
              "      <td>US</td>\n",
              "      <td>840</td>\n",
              "      <td>N171US</td>\n",
              "      <td>SFO</td>\n",
              "      <td>CLT</td>\n",
              "      <td>20</td>\n",
              "      <td>18.0</td>\n",
              "      <td>-2.0</td>\n",
              "      <td>16.0</td>\n",
              "      <td>34.0</td>\n",
              "      <td>286.0</td>\n",
              "      <td>293.0</td>\n",
              "      <td>266.0</td>\n",
              "      <td>2296</td>\n",
              "      <td>800.0</td>\n",
              "      <td>11.0</td>\n",
              "      <td>806</td>\n",
              "      <td>811.0</td>\n",
              "      <td>5.0</td>\n",
              "      <td>0</td>\n",
              "      <td>0</td>\n",
              "      <td>NaN</td>\n",
              "      <td>NaN</td>\n",
              "      <td>NaN</td>\n",
              "      <td>NaN</td>\n",
              "      <td>NaN</td>\n",
              "      <td>NaN</td>\n",
              "    </tr>\n",
              "    <tr>\n",
              "      <th>3</th>\n",
              "      <td>2015</td>\n",
              "      <td>1</td>\n",
              "      <td>1</td>\n",
              "      <td>4</td>\n",
              "      <td>AA</td>\n",
              "      <td>258</td>\n",
              "      <td>N3HYAA</td>\n",
              "      <td>LAX</td>\n",
              "      <td>MIA</td>\n",
              "      <td>20</td>\n",
              "      <td>15.0</td>\n",
              "      <td>-5.0</td>\n",
              "      <td>15.0</td>\n",
              "      <td>30.0</td>\n",
              "      <td>285.0</td>\n",
              "      <td>281.0</td>\n",
              "      <td>258.0</td>\n",
              "      <td>2342</td>\n",
              "      <td>748.0</td>\n",
              "      <td>8.0</td>\n",
              "      <td>805</td>\n",
              "      <td>756.0</td>\n",
              "      <td>-9.0</td>\n",
              "      <td>0</td>\n",
              "      <td>0</td>\n",
              "      <td>NaN</td>\n",
              "      <td>NaN</td>\n",
              "      <td>NaN</td>\n",
              "      <td>NaN</td>\n",
              "      <td>NaN</td>\n",
              "      <td>NaN</td>\n",
              "    </tr>\n",
              "    <tr>\n",
              "      <th>4</th>\n",
              "      <td>2015</td>\n",
              "      <td>1</td>\n",
              "      <td>1</td>\n",
              "      <td>4</td>\n",
              "      <td>AS</td>\n",
              "      <td>135</td>\n",
              "      <td>N527AS</td>\n",
              "      <td>SEA</td>\n",
              "      <td>ANC</td>\n",
              "      <td>25</td>\n",
              "      <td>24.0</td>\n",
              "      <td>-1.0</td>\n",
              "      <td>11.0</td>\n",
              "      <td>35.0</td>\n",
              "      <td>235.0</td>\n",
              "      <td>215.0</td>\n",
              "      <td>199.0</td>\n",
              "      <td>1448</td>\n",
              "      <td>254.0</td>\n",
              "      <td>5.0</td>\n",
              "      <td>320</td>\n",
              "      <td>259.0</td>\n",
              "      <td>-21.0</td>\n",
              "      <td>0</td>\n",
              "      <td>0</td>\n",
              "      <td>NaN</td>\n",
              "      <td>NaN</td>\n",
              "      <td>NaN</td>\n",
              "      <td>NaN</td>\n",
              "      <td>NaN</td>\n",
              "      <td>NaN</td>\n",
              "    </tr>\n",
              "    <tr>\n",
              "      <th>...</th>\n",
              "      <td>...</td>\n",
              "      <td>...</td>\n",
              "      <td>...</td>\n",
              "      <td>...</td>\n",
              "      <td>...</td>\n",
              "      <td>...</td>\n",
              "      <td>...</td>\n",
              "      <td>...</td>\n",
              "      <td>...</td>\n",
              "      <td>...</td>\n",
              "      <td>...</td>\n",
              "      <td>...</td>\n",
              "      <td>...</td>\n",
              "      <td>...</td>\n",
              "      <td>...</td>\n",
              "      <td>...</td>\n",
              "      <td>...</td>\n",
              "      <td>...</td>\n",
              "      <td>...</td>\n",
              "      <td>...</td>\n",
              "      <td>...</td>\n",
              "      <td>...</td>\n",
              "      <td>...</td>\n",
              "      <td>...</td>\n",
              "      <td>...</td>\n",
              "      <td>...</td>\n",
              "      <td>...</td>\n",
              "      <td>...</td>\n",
              "      <td>...</td>\n",
              "      <td>...</td>\n",
              "      <td>...</td>\n",
              "    </tr>\n",
              "    <tr>\n",
              "      <th>5819074</th>\n",
              "      <td>2015</td>\n",
              "      <td>12</td>\n",
              "      <td>31</td>\n",
              "      <td>4</td>\n",
              "      <td>B6</td>\n",
              "      <td>688</td>\n",
              "      <td>N657JB</td>\n",
              "      <td>LAX</td>\n",
              "      <td>BOS</td>\n",
              "      <td>2359</td>\n",
              "      <td>2355.0</td>\n",
              "      <td>-4.0</td>\n",
              "      <td>22.0</td>\n",
              "      <td>17.0</td>\n",
              "      <td>320.0</td>\n",
              "      <td>298.0</td>\n",
              "      <td>272.0</td>\n",
              "      <td>2611</td>\n",
              "      <td>749.0</td>\n",
              "      <td>4.0</td>\n",
              "      <td>819</td>\n",
              "      <td>753.0</td>\n",
              "      <td>-26.0</td>\n",
              "      <td>0</td>\n",
              "      <td>0</td>\n",
              "      <td>NaN</td>\n",
              "      <td>NaN</td>\n",
              "      <td>NaN</td>\n",
              "      <td>NaN</td>\n",
              "      <td>NaN</td>\n",
              "      <td>NaN</td>\n",
              "    </tr>\n",
              "    <tr>\n",
              "      <th>5819075</th>\n",
              "      <td>2015</td>\n",
              "      <td>12</td>\n",
              "      <td>31</td>\n",
              "      <td>4</td>\n",
              "      <td>B6</td>\n",
              "      <td>745</td>\n",
              "      <td>N828JB</td>\n",
              "      <td>JFK</td>\n",
              "      <td>PSE</td>\n",
              "      <td>2359</td>\n",
              "      <td>2355.0</td>\n",
              "      <td>-4.0</td>\n",
              "      <td>17.0</td>\n",
              "      <td>12.0</td>\n",
              "      <td>227.0</td>\n",
              "      <td>215.0</td>\n",
              "      <td>195.0</td>\n",
              "      <td>1617</td>\n",
              "      <td>427.0</td>\n",
              "      <td>3.0</td>\n",
              "      <td>446</td>\n",
              "      <td>430.0</td>\n",
              "      <td>-16.0</td>\n",
              "      <td>0</td>\n",
              "      <td>0</td>\n",
              "      <td>NaN</td>\n",
              "      <td>NaN</td>\n",
              "      <td>NaN</td>\n",
              "      <td>NaN</td>\n",
              "      <td>NaN</td>\n",
              "      <td>NaN</td>\n",
              "    </tr>\n",
              "    <tr>\n",
              "      <th>5819076</th>\n",
              "      <td>2015</td>\n",
              "      <td>12</td>\n",
              "      <td>31</td>\n",
              "      <td>4</td>\n",
              "      <td>B6</td>\n",
              "      <td>1503</td>\n",
              "      <td>N913JB</td>\n",
              "      <td>JFK</td>\n",
              "      <td>SJU</td>\n",
              "      <td>2359</td>\n",
              "      <td>2350.0</td>\n",
              "      <td>-9.0</td>\n",
              "      <td>17.0</td>\n",
              "      <td>7.0</td>\n",
              "      <td>221.0</td>\n",
              "      <td>222.0</td>\n",
              "      <td>197.0</td>\n",
              "      <td>1598</td>\n",
              "      <td>424.0</td>\n",
              "      <td>8.0</td>\n",
              "      <td>440</td>\n",
              "      <td>432.0</td>\n",
              "      <td>-8.0</td>\n",
              "      <td>0</td>\n",
              "      <td>0</td>\n",
              "      <td>NaN</td>\n",
              "      <td>NaN</td>\n",
              "      <td>NaN</td>\n",
              "      <td>NaN</td>\n",
              "      <td>NaN</td>\n",
              "      <td>NaN</td>\n",
              "    </tr>\n",
              "    <tr>\n",
              "      <th>5819077</th>\n",
              "      <td>2015</td>\n",
              "      <td>12</td>\n",
              "      <td>31</td>\n",
              "      <td>4</td>\n",
              "      <td>B6</td>\n",
              "      <td>333</td>\n",
              "      <td>N527JB</td>\n",
              "      <td>MCO</td>\n",
              "      <td>SJU</td>\n",
              "      <td>2359</td>\n",
              "      <td>2353.0</td>\n",
              "      <td>-6.0</td>\n",
              "      <td>10.0</td>\n",
              "      <td>3.0</td>\n",
              "      <td>161.0</td>\n",
              "      <td>157.0</td>\n",
              "      <td>144.0</td>\n",
              "      <td>1189</td>\n",
              "      <td>327.0</td>\n",
              "      <td>3.0</td>\n",
              "      <td>340</td>\n",
              "      <td>330.0</td>\n",
              "      <td>-10.0</td>\n",
              "      <td>0</td>\n",
              "      <td>0</td>\n",
              "      <td>NaN</td>\n",
              "      <td>NaN</td>\n",
              "      <td>NaN</td>\n",
              "      <td>NaN</td>\n",
              "      <td>NaN</td>\n",
              "      <td>NaN</td>\n",
              "    </tr>\n",
              "    <tr>\n",
              "      <th>5819078</th>\n",
              "      <td>2015</td>\n",
              "      <td>12</td>\n",
              "      <td>31</td>\n",
              "      <td>4</td>\n",
              "      <td>B6</td>\n",
              "      <td>839</td>\n",
              "      <td>N534JB</td>\n",
              "      <td>JFK</td>\n",
              "      <td>BQN</td>\n",
              "      <td>2359</td>\n",
              "      <td>14.0</td>\n",
              "      <td>15.0</td>\n",
              "      <td>14.0</td>\n",
              "      <td>28.0</td>\n",
              "      <td>221.0</td>\n",
              "      <td>208.0</td>\n",
              "      <td>189.0</td>\n",
              "      <td>1576</td>\n",
              "      <td>437.0</td>\n",
              "      <td>5.0</td>\n",
              "      <td>440</td>\n",
              "      <td>442.0</td>\n",
              "      <td>2.0</td>\n",
              "      <td>0</td>\n",
              "      <td>0</td>\n",
              "      <td>NaN</td>\n",
              "      <td>NaN</td>\n",
              "      <td>NaN</td>\n",
              "      <td>NaN</td>\n",
              "      <td>NaN</td>\n",
              "      <td>NaN</td>\n",
              "    </tr>\n",
              "  </tbody>\n",
              "</table>\n",
              "<p>5819079 rows × 31 columns</p>\n",
              "</div>"
            ],
            "text/plain": [
              "         YEAR  MONTH  DAY  ...  AIRLINE_DELAY LATE_AIRCRAFT_DELAY  WEATHER_DELAY\n",
              "0        2015      1    1  ...            NaN                 NaN            NaN\n",
              "1        2015      1    1  ...            NaN                 NaN            NaN\n",
              "2        2015      1    1  ...            NaN                 NaN            NaN\n",
              "3        2015      1    1  ...            NaN                 NaN            NaN\n",
              "4        2015      1    1  ...            NaN                 NaN            NaN\n",
              "...       ...    ...  ...  ...            ...                 ...            ...\n",
              "5819074  2015     12   31  ...            NaN                 NaN            NaN\n",
              "5819075  2015     12   31  ...            NaN                 NaN            NaN\n",
              "5819076  2015     12   31  ...            NaN                 NaN            NaN\n",
              "5819077  2015     12   31  ...            NaN                 NaN            NaN\n",
              "5819078  2015     12   31  ...            NaN                 NaN            NaN\n",
              "\n",
              "[5819079 rows x 31 columns]"
            ]
          },
          "metadata": {
            "tags": []
          },
          "execution_count": 10
        }
      ]
    },
    {
      "cell_type": "markdown",
      "metadata": {
        "id": "bwO0tnDgMa3W",
        "colab_type": "text"
      },
      "source": [
        "\n",
        "## **Now check the amount of null values for each attributes.**"
      ]
    },
    {
      "cell_type": "code",
      "metadata": {
        "id": "b7cMThCtMZ0B",
        "colab_type": "code",
        "colab": {
          "base_uri": "https://localhost:8080/",
          "height": 268
        },
        "outputId": "6f9ef5c0-9346-4a8d-f30e-4ad596277d92"
      },
      "source": [
        "print('Dataframe dimensions:', df.shape)\n",
        "tab_info=pd.DataFrame(df.dtypes).T.rename(index={0:'column type'})\n",
        "tab_info=tab_info.append(pd.DataFrame(df.isnull().sum()).T.rename(index={0:'null values (nb)'}))\n",
        "tab_info=tab_info.append(pd.DataFrame(df.isnull().sum()/df.shape[0]*100)\n",
        "                         .T.rename(index={0:'null values (%)'}))\n",
        "tab_info"
      ],
      "execution_count": null,
      "outputs": [
        {
          "output_type": "stream",
          "text": [
            "Dataframe dimensions: (5819079, 31)\n"
          ],
          "name": "stdout"
        },
        {
          "output_type": "execute_result",
          "data": {
            "text/html": [
              "<div>\n",
              "<style scoped>\n",
              "    .dataframe tbody tr th:only-of-type {\n",
              "        vertical-align: middle;\n",
              "    }\n",
              "\n",
              "    .dataframe tbody tr th {\n",
              "        vertical-align: top;\n",
              "    }\n",
              "\n",
              "    .dataframe thead th {\n",
              "        text-align: right;\n",
              "    }\n",
              "</style>\n",
              "<table border=\"1\" class=\"dataframe\">\n",
              "  <thead>\n",
              "    <tr style=\"text-align: right;\">\n",
              "      <th></th>\n",
              "      <th>YEAR</th>\n",
              "      <th>MONTH</th>\n",
              "      <th>DAY</th>\n",
              "      <th>DAY_OF_WEEK</th>\n",
              "      <th>AIRLINE</th>\n",
              "      <th>FLIGHT_NUMBER</th>\n",
              "      <th>TAIL_NUMBER</th>\n",
              "      <th>ORIGIN_AIRPORT</th>\n",
              "      <th>DESTINATION_AIRPORT</th>\n",
              "      <th>SCHEDULED_DEPARTURE</th>\n",
              "      <th>DEPARTURE_TIME</th>\n",
              "      <th>DEPARTURE_DELAY</th>\n",
              "      <th>TAXI_OUT</th>\n",
              "      <th>WHEELS_OFF</th>\n",
              "      <th>SCHEDULED_TIME</th>\n",
              "      <th>ELAPSED_TIME</th>\n",
              "      <th>AIR_TIME</th>\n",
              "      <th>DISTANCE</th>\n",
              "      <th>WHEELS_ON</th>\n",
              "      <th>TAXI_IN</th>\n",
              "      <th>SCHEDULED_ARRIVAL</th>\n",
              "      <th>ARRIVAL_TIME</th>\n",
              "      <th>ARRIVAL_DELAY</th>\n",
              "      <th>DIVERTED</th>\n",
              "      <th>CANCELLED</th>\n",
              "      <th>CANCELLATION_REASON</th>\n",
              "      <th>AIR_SYSTEM_DELAY</th>\n",
              "      <th>SECURITY_DELAY</th>\n",
              "      <th>AIRLINE_DELAY</th>\n",
              "      <th>LATE_AIRCRAFT_DELAY</th>\n",
              "      <th>WEATHER_DELAY</th>\n",
              "    </tr>\n",
              "  </thead>\n",
              "  <tbody>\n",
              "    <tr>\n",
              "      <th>column type</th>\n",
              "      <td>int64</td>\n",
              "      <td>int64</td>\n",
              "      <td>int64</td>\n",
              "      <td>int64</td>\n",
              "      <td>object</td>\n",
              "      <td>int64</td>\n",
              "      <td>object</td>\n",
              "      <td>object</td>\n",
              "      <td>object</td>\n",
              "      <td>int64</td>\n",
              "      <td>float64</td>\n",
              "      <td>float64</td>\n",
              "      <td>float64</td>\n",
              "      <td>float64</td>\n",
              "      <td>float64</td>\n",
              "      <td>float64</td>\n",
              "      <td>float64</td>\n",
              "      <td>int64</td>\n",
              "      <td>float64</td>\n",
              "      <td>float64</td>\n",
              "      <td>int64</td>\n",
              "      <td>float64</td>\n",
              "      <td>float64</td>\n",
              "      <td>int64</td>\n",
              "      <td>int64</td>\n",
              "      <td>object</td>\n",
              "      <td>float64</td>\n",
              "      <td>float64</td>\n",
              "      <td>float64</td>\n",
              "      <td>float64</td>\n",
              "      <td>float64</td>\n",
              "    </tr>\n",
              "    <tr>\n",
              "      <th>null values (nb)</th>\n",
              "      <td>0</td>\n",
              "      <td>0</td>\n",
              "      <td>0</td>\n",
              "      <td>0</td>\n",
              "      <td>0</td>\n",
              "      <td>0</td>\n",
              "      <td>14721</td>\n",
              "      <td>0</td>\n",
              "      <td>0</td>\n",
              "      <td>0</td>\n",
              "      <td>86153</td>\n",
              "      <td>86153</td>\n",
              "      <td>89047</td>\n",
              "      <td>89047</td>\n",
              "      <td>6</td>\n",
              "      <td>105071</td>\n",
              "      <td>105071</td>\n",
              "      <td>0</td>\n",
              "      <td>92513</td>\n",
              "      <td>92513</td>\n",
              "      <td>0</td>\n",
              "      <td>92513</td>\n",
              "      <td>105071</td>\n",
              "      <td>0</td>\n",
              "      <td>0</td>\n",
              "      <td>5729195</td>\n",
              "      <td>4755640</td>\n",
              "      <td>4755640</td>\n",
              "      <td>4755640</td>\n",
              "      <td>4755640</td>\n",
              "      <td>4755640</td>\n",
              "    </tr>\n",
              "    <tr>\n",
              "      <th>null values (%)</th>\n",
              "      <td>0</td>\n",
              "      <td>0</td>\n",
              "      <td>0</td>\n",
              "      <td>0</td>\n",
              "      <td>0</td>\n",
              "      <td>0</td>\n",
              "      <td>0.252978</td>\n",
              "      <td>0</td>\n",
              "      <td>0</td>\n",
              "      <td>0</td>\n",
              "      <td>1.48053</td>\n",
              "      <td>1.48053</td>\n",
              "      <td>1.53026</td>\n",
              "      <td>1.53026</td>\n",
              "      <td>0.000103109</td>\n",
              "      <td>1.80563</td>\n",
              "      <td>1.80563</td>\n",
              "      <td>0</td>\n",
              "      <td>1.58982</td>\n",
              "      <td>1.58982</td>\n",
              "      <td>0</td>\n",
              "      <td>1.58982</td>\n",
              "      <td>1.80563</td>\n",
              "      <td>0</td>\n",
              "      <td>0</td>\n",
              "      <td>98.4554</td>\n",
              "      <td>81.725</td>\n",
              "      <td>81.725</td>\n",
              "      <td>81.725</td>\n",
              "      <td>81.725</td>\n",
              "      <td>81.725</td>\n",
              "    </tr>\n",
              "  </tbody>\n",
              "</table>\n",
              "</div>"
            ],
            "text/plain": [
              "                   YEAR  MONTH  ... LATE_AIRCRAFT_DELAY WEATHER_DELAY\n",
              "column type       int64  int64  ...             float64       float64\n",
              "null values (nb)      0      0  ...             4755640       4755640\n",
              "null values (%)       0      0  ...              81.725        81.725\n",
              "\n",
              "[3 rows x 31 columns]"
            ]
          },
          "metadata": {
            "tags": []
          },
          "execution_count": 11
        }
      ]
    },
    {
      "cell_type": "markdown",
      "metadata": {
        "id": "iYudtPxFMxpn",
        "colab_type": "text"
      },
      "source": [
        "# **Cleaning of Data**"
      ]
    },
    {
      "cell_type": "markdown",
      "metadata": {
        "id": "HAqsPRtKNAVR",
        "colab_type": "text"
      },
      "source": [
        "Combine YEAR, MONTH and DAY to make it convinenent."
      ]
    },
    {
      "cell_type": "code",
      "metadata": {
        "id": "Yo7VOaCHM11a",
        "colab_type": "code",
        "colab": {}
      },
      "source": [
        "df['DATE'] = pd.to_datetime(df[['YEAR','MONTH', 'DAY']])"
      ],
      "execution_count": null,
      "outputs": []
    },
    {
      "cell_type": "code",
      "metadata": {
        "id": "UqPs2qvaNQBn",
        "colab_type": "code",
        "colab": {}
      },
      "source": [
        "#_________________________________________________________\n",
        "# Function that convert the 'HHMM' string to datetime.time\n",
        "def format_heure(chaine):\n",
        "    if pd.isnull(chaine):\n",
        "        return np.nan\n",
        "    else:\n",
        "        if chaine == 2400: chaine = 0\n",
        "        chaine = \"{0:04d}\".format(int(chaine))\n",
        "        heure = datetime.time(int(chaine[0:2]), int(chaine[2:4]))\n",
        "        return heure\n",
        "#_____________________________________________________________________\n",
        "# Function that combines a date and time to produce a datetime.datetime\n",
        "def combine_date_heure(x):\n",
        "    if pd.isnull(x[0]) or pd.isnull(x[1]):\n",
        "        return np.nan\n",
        "    else:\n",
        "        return datetime.datetime.combine(x[0],x[1])\n",
        "#_______________________________________________________________________________\n",
        "# Function that combine two columns of the dataframe to create a datetime format\n",
        "def create_flight_time(df, col):    \n",
        "    liste = []\n",
        "    for index, cols in df[['DATE', col]].iterrows():    \n",
        "        if pd.isnull(cols[1]):\n",
        "            liste.append(np.nan)\n",
        "        elif float(cols[1]) == 2400:\n",
        "            cols[0] += datetime.timedelta(days=1)\n",
        "            cols[1] = datetime.time(0,0)\n",
        "            liste.append(combine_date_heure(cols))\n",
        "        else:\n",
        "            cols[1] = format_heure(cols[1])\n",
        "            liste.append(combine_date_heure(cols))\n",
        "    return pd.Series(liste)"
      ],
      "execution_count": null,
      "outputs": []
    },
    {
      "cell_type": "code",
      "metadata": {
        "id": "9J7hb-DNNVIs",
        "colab_type": "code",
        "colab": {
          "base_uri": "https://localhost:8080/",
          "height": 238
        },
        "outputId": "73c4eb7f-67c4-417b-c3cd-948b4d05835f"
      },
      "source": [
        "df['SCHEDULED_DEPARTURE'] = create_flight_time(df, 'SCHEDULED_DEPARTURE')\n",
        "df['DEPARTURE_TIME'] = df['DEPARTURE_TIME'].apply(format_heure)\n",
        "df['SCHEDULED_ARRIVAL'] = df['SCHEDULED_ARRIVAL'].apply(format_heure)\n",
        "df['ARRIVAL_TIME'] = df['ARRIVAL_TIME'].apply(format_heure)\n",
        "#__________________________________________________________________________\n",
        "df.loc[:5, ['SCHEDULED_DEPARTURE', 'SCHEDULED_ARRIVAL', 'DEPARTURE_TIME',\n",
        "             'ARRIVAL_TIME', 'DEPARTURE_DELAY', 'ARRIVAL_DELAY']]"
      ],
      "execution_count": null,
      "outputs": [
        {
          "output_type": "execute_result",
          "data": {
            "text/html": [
              "<div>\n",
              "<style scoped>\n",
              "    .dataframe tbody tr th:only-of-type {\n",
              "        vertical-align: middle;\n",
              "    }\n",
              "\n",
              "    .dataframe tbody tr th {\n",
              "        vertical-align: top;\n",
              "    }\n",
              "\n",
              "    .dataframe thead th {\n",
              "        text-align: right;\n",
              "    }\n",
              "</style>\n",
              "<table border=\"1\" class=\"dataframe\">\n",
              "  <thead>\n",
              "    <tr style=\"text-align: right;\">\n",
              "      <th></th>\n",
              "      <th>SCHEDULED_DEPARTURE</th>\n",
              "      <th>SCHEDULED_ARRIVAL</th>\n",
              "      <th>DEPARTURE_TIME</th>\n",
              "      <th>ARRIVAL_TIME</th>\n",
              "      <th>DEPARTURE_DELAY</th>\n",
              "      <th>ARRIVAL_DELAY</th>\n",
              "    </tr>\n",
              "  </thead>\n",
              "  <tbody>\n",
              "    <tr>\n",
              "      <th>0</th>\n",
              "      <td>2015-01-01 00:05:00</td>\n",
              "      <td>04:30:00</td>\n",
              "      <td>23:54:00</td>\n",
              "      <td>04:08:00</td>\n",
              "      <td>-11.0</td>\n",
              "      <td>-22.0</td>\n",
              "    </tr>\n",
              "    <tr>\n",
              "      <th>1</th>\n",
              "      <td>2015-01-01 00:10:00</td>\n",
              "      <td>07:50:00</td>\n",
              "      <td>00:02:00</td>\n",
              "      <td>07:41:00</td>\n",
              "      <td>-8.0</td>\n",
              "      <td>-9.0</td>\n",
              "    </tr>\n",
              "    <tr>\n",
              "      <th>2</th>\n",
              "      <td>2015-01-01 00:20:00</td>\n",
              "      <td>08:06:00</td>\n",
              "      <td>00:18:00</td>\n",
              "      <td>08:11:00</td>\n",
              "      <td>-2.0</td>\n",
              "      <td>5.0</td>\n",
              "    </tr>\n",
              "    <tr>\n",
              "      <th>3</th>\n",
              "      <td>2015-01-01 00:20:00</td>\n",
              "      <td>08:05:00</td>\n",
              "      <td>00:15:00</td>\n",
              "      <td>07:56:00</td>\n",
              "      <td>-5.0</td>\n",
              "      <td>-9.0</td>\n",
              "    </tr>\n",
              "    <tr>\n",
              "      <th>4</th>\n",
              "      <td>2015-01-01 00:25:00</td>\n",
              "      <td>03:20:00</td>\n",
              "      <td>00:24:00</td>\n",
              "      <td>02:59:00</td>\n",
              "      <td>-1.0</td>\n",
              "      <td>-21.0</td>\n",
              "    </tr>\n",
              "    <tr>\n",
              "      <th>5</th>\n",
              "      <td>2015-01-01 00:25:00</td>\n",
              "      <td>06:02:00</td>\n",
              "      <td>00:20:00</td>\n",
              "      <td>06:10:00</td>\n",
              "      <td>-5.0</td>\n",
              "      <td>8.0</td>\n",
              "    </tr>\n",
              "  </tbody>\n",
              "</table>\n",
              "</div>"
            ],
            "text/plain": [
              "  SCHEDULED_DEPARTURE SCHEDULED_ARRIVAL  ... DEPARTURE_DELAY ARRIVAL_DELAY\n",
              "0 2015-01-01 00:05:00          04:30:00  ...           -11.0         -22.0\n",
              "1 2015-01-01 00:10:00          07:50:00  ...            -8.0          -9.0\n",
              "2 2015-01-01 00:20:00          08:06:00  ...            -2.0           5.0\n",
              "3 2015-01-01 00:20:00          08:05:00  ...            -5.0          -9.0\n",
              "4 2015-01-01 00:25:00          03:20:00  ...            -1.0         -21.0\n",
              "5 2015-01-01 00:25:00          06:02:00  ...            -5.0           8.0\n",
              "\n",
              "[6 rows x 6 columns]"
            ]
          },
          "metadata": {
            "tags": []
          },
          "execution_count": 12
        }
      ]
    },
    {
      "cell_type": "markdown",
      "metadata": {
        "id": "ntWspon-VctF",
        "colab_type": "text"
      },
      "source": [
        "## Correlation among attributes using HEATMAP"
      ]
    },
    {
      "cell_type": "code",
      "metadata": {
        "id": "F4ZFNK_cVmJk",
        "colab_type": "code",
        "colab": {
          "base_uri": "https://localhost:8080/",
          "height": 1000
        },
        "outputId": "00eade43-a847-421a-f0a7-3c199786f898"
      },
      "source": [
        "corr = df.corr()\n",
        "plt.subplots(figsize=(15,15))\n",
        "ax = sns.heatmap(corr, vmin=-1, vmax=1, center=0,cmap=sns.diverging_palette(20, 220, n=200),square=True)\n",
        "ax.set_xticklabels(ax.get_xticklabels(),rotation=45,horizontalalignment='right')"
      ],
      "execution_count": null,
      "outputs": [
        {
          "output_type": "execute_result",
          "data": {
            "text/plain": [
              "[Text(0.5, 0, 'YEAR'),\n",
              " Text(1.5, 0, 'MONTH'),\n",
              " Text(2.5, 0, 'DAY'),\n",
              " Text(3.5, 0, 'DAY_OF_WEEK'),\n",
              " Text(4.5, 0, 'FLIGHT_NUMBER'),\n",
              " Text(5.5, 0, 'DEPARTURE_DELAY'),\n",
              " Text(6.5, 0, 'TAXI_OUT'),\n",
              " Text(7.5, 0, 'WHEELS_OFF'),\n",
              " Text(8.5, 0, 'SCHEDULED_TIME'),\n",
              " Text(9.5, 0, 'ELAPSED_TIME'),\n",
              " Text(10.5, 0, 'AIR_TIME'),\n",
              " Text(11.5, 0, 'DISTANCE'),\n",
              " Text(12.5, 0, 'WHEELS_ON'),\n",
              " Text(13.5, 0, 'TAXI_IN'),\n",
              " Text(14.5, 0, 'ARRIVAL_DELAY'),\n",
              " Text(15.5, 0, 'DIVERTED'),\n",
              " Text(16.5, 0, 'CANCELLED'),\n",
              " Text(17.5, 0, 'AIR_SYSTEM_DELAY'),\n",
              " Text(18.5, 0, 'SECURITY_DELAY'),\n",
              " Text(19.5, 0, 'AIRLINE_DELAY'),\n",
              " Text(20.5, 0, 'LATE_AIRCRAFT_DELAY'),\n",
              " Text(21.5, 0, 'WEATHER_DELAY')]"
            ]
          },
          "metadata": {
            "tags": []
          },
          "execution_count": 13
        },
        {
          "output_type": "display_data",
          "data": {
            "image/png": "[encoded data removed]",
            "text/plain": [
              "<Figure size 1080x1080 with 2 Axes>"
            ]
          },
          "metadata": {
            "tags": [],
            "needs_background": "light"
          }
        }
      ]
    },
    {
      "cell_type": "markdown",
      "metadata": {
        "id": "79Qd3JJnB0y-",
        "colab_type": "text"
      },
      "source": [
        "## Analyzing from correlation\n",
        "We found that features like TAXI_OUT, TAXI_IN, WHEELS_ON, WHEELS_OFF, etc have no correlation with other features. So, we are dropping it out.\n"
      ]
    },
    {
      "cell_type": "code",
      "metadata": {
        "id": "psET_sf0ByJf",
        "colab_type": "code",
        "colab": {
          "base_uri": "https://localhost:8080/",
          "height": 206
        },
        "outputId": "298f5e9b-63f4-435f-bd90-4b7612207a6c"
      },
      "source": [
        "variables_to_remove = ['TAXI_OUT', 'TAXI_IN', 'WHEELS_ON', 'WHEELS_OFF', 'YEAR', \n",
        "                       'MONTH','DAY','DAY_OF_WEEK','DATE', 'AIR_SYSTEM_DELAY',\n",
        "                       'SECURITY_DELAY', 'AIRLINE_DELAY', 'LATE_AIRCRAFT_DELAY',\n",
        "                       'WEATHER_DELAY', 'DIVERTED', 'CANCELLED', 'CANCELLATION_REASON',\n",
        "                       'FLIGHT_NUMBER', 'TAIL_NUMBER', 'AIR_TIME']\n",
        "df.drop(variables_to_remove, axis = 1, inplace = True)\n",
        "df = df[['AIRLINE', 'ORIGIN_AIRPORT', 'DESTINATION_AIRPORT',\n",
        "        'SCHEDULED_DEPARTURE', 'DEPARTURE_TIME', 'DEPARTURE_DELAY',\n",
        "        'SCHEDULED_ARRIVAL', 'ARRIVAL_TIME', 'ARRIVAL_DELAY',\n",
        "        'SCHEDULED_TIME', 'ELAPSED_TIME']]\n",
        "df[:5]"
      ],
      "execution_count": null,
      "outputs": [
        {
          "output_type": "execute_result",
          "data": {
            "text/html": [
              "<div>\n",
              "<style scoped>\n",
              "    .dataframe tbody tr th:only-of-type {\n",
              "        vertical-align: middle;\n",
              "    }\n",
              "\n",
              "    .dataframe tbody tr th {\n",
              "        vertical-align: top;\n",
              "    }\n",
              "\n",
              "    .dataframe thead th {\n",
              "        text-align: right;\n",
              "    }\n",
              "</style>\n",
              "<table border=\"1\" class=\"dataframe\">\n",
              "  <thead>\n",
              "    <tr style=\"text-align: right;\">\n",
              "      <th></th>\n",
              "      <th>AIRLINE</th>\n",
              "      <th>ORIGIN_AIRPORT</th>\n",
              "      <th>DESTINATION_AIRPORT</th>\n",
              "      <th>SCHEDULED_DEPARTURE</th>\n",
              "      <th>DEPARTURE_TIME</th>\n",
              "      <th>DEPARTURE_DELAY</th>\n",
              "      <th>SCHEDULED_ARRIVAL</th>\n",
              "      <th>ARRIVAL_TIME</th>\n",
              "      <th>ARRIVAL_DELAY</th>\n",
              "      <th>SCHEDULED_TIME</th>\n",
              "      <th>ELAPSED_TIME</th>\n",
              "    </tr>\n",
              "  </thead>\n",
              "  <tbody>\n",
              "    <tr>\n",
              "      <th>0</th>\n",
              "      <td>AS</td>\n",
              "      <td>ANC</td>\n",
              "      <td>SEA</td>\n",
              "      <td>2015-01-01 00:05:00</td>\n",
              "      <td>23:54:00</td>\n",
              "      <td>-11.0</td>\n",
              "      <td>04:30:00</td>\n",
              "      <td>04:08:00</td>\n",
              "      <td>-22.0</td>\n",
              "      <td>205.0</td>\n",
              "      <td>194.0</td>\n",
              "    </tr>\n",
              "    <tr>\n",
              "      <th>1</th>\n",
              "      <td>AA</td>\n",
              "      <td>LAX</td>\n",
              "      <td>PBI</td>\n",
              "      <td>2015-01-01 00:10:00</td>\n",
              "      <td>00:02:00</td>\n",
              "      <td>-8.0</td>\n",
              "      <td>07:50:00</td>\n",
              "      <td>07:41:00</td>\n",
              "      <td>-9.0</td>\n",
              "      <td>280.0</td>\n",
              "      <td>279.0</td>\n",
              "    </tr>\n",
              "    <tr>\n",
              "      <th>2</th>\n",
              "      <td>US</td>\n",
              "      <td>SFO</td>\n",
              "      <td>CLT</td>\n",
              "      <td>2015-01-01 00:20:00</td>\n",
              "      <td>00:18:00</td>\n",
              "      <td>-2.0</td>\n",
              "      <td>08:06:00</td>\n",
              "      <td>08:11:00</td>\n",
              "      <td>5.0</td>\n",
              "      <td>286.0</td>\n",
              "      <td>293.0</td>\n",
              "    </tr>\n",
              "    <tr>\n",
              "      <th>3</th>\n",
              "      <td>AA</td>\n",
              "      <td>LAX</td>\n",
              "      <td>MIA</td>\n",
              "      <td>2015-01-01 00:20:00</td>\n",
              "      <td>00:15:00</td>\n",
              "      <td>-5.0</td>\n",
              "      <td>08:05:00</td>\n",
              "      <td>07:56:00</td>\n",
              "      <td>-9.0</td>\n",
              "      <td>285.0</td>\n",
              "      <td>281.0</td>\n",
              "    </tr>\n",
              "    <tr>\n",
              "      <th>4</th>\n",
              "      <td>AS</td>\n",
              "      <td>SEA</td>\n",
              "      <td>ANC</td>\n",
              "      <td>2015-01-01 00:25:00</td>\n",
              "      <td>00:24:00</td>\n",
              "      <td>-1.0</td>\n",
              "      <td>03:20:00</td>\n",
              "      <td>02:59:00</td>\n",
              "      <td>-21.0</td>\n",
              "      <td>235.0</td>\n",
              "      <td>215.0</td>\n",
              "    </tr>\n",
              "  </tbody>\n",
              "</table>\n",
              "</div>"
            ],
            "text/plain": [
              "  AIRLINE ORIGIN_AIRPORT  ... SCHEDULED_TIME ELAPSED_TIME\n",
              "0      AS            ANC  ...          205.0        194.0\n",
              "1      AA            LAX  ...          280.0        279.0\n",
              "2      US            SFO  ...          286.0        293.0\n",
              "3      AA            LAX  ...          285.0        281.0\n",
              "4      AS            SEA  ...          235.0        215.0\n",
              "\n",
              "[5 rows x 11 columns]"
            ]
          },
          "metadata": {
            "tags": []
          },
          "execution_count": 14
        }
      ]
    },
    {
      "cell_type": "markdown",
      "metadata": {
        "id": "lFSVBJr2UydM",
        "colab_type": "text"
      },
      "source": [
        "# Extracting Some Info from dataset"
      ]
    },
    {
      "cell_type": "code",
      "metadata": {
        "id": "n4HNicdCWrQB",
        "colab_type": "code",
        "colab": {}
      },
      "source": [
        "abbr_companies = airlines_data.set_index('IATA_CODE')['AIRLINE'].to_dict()"
      ],
      "execution_count": null,
      "outputs": []
    },
    {
      "cell_type": "code",
      "metadata": {
        "id": "j8QaKbRXU6Bf",
        "colab_type": "code",
        "colab": {
          "base_uri": "https://localhost:8080/",
          "height": 555
        },
        "outputId": "4fca74da-198f-4cf3-cb7b-50f13ac20f45"
      },
      "source": [
        "mpl.rcParams.update(mpl.rcParamsDefault)\n",
        "mpl.rcParams['hatch.linewidth'] = 2.0  \n",
        "\n",
        "fig = plt.figure(1, figsize=(11,6))\n",
        "ax = sns.barplot(x=\"DEPARTURE_DELAY\", y=\"AIRLINE\", data=df, color=\"lightskyblue\", ci=None)\n",
        "ax = sns.barplot(x=\"ARRIVAL_DELAY\", y=\"AIRLINE\", data=df, color=\"r\", hatch = '///',\n",
        "                 alpha = 0.0, ci=None)\n",
        "labels = [abbr_companies[item.get_text()] for item in ax.get_yticklabels()]\n",
        "ax.set_yticklabels(labels)\n",
        "ax.yaxis.label.set_visible(False)\n",
        "plt.xlabel('Mean delay [min] (Color Code departure: blue, arrival: hatch lines)',\n",
        "           fontsize=14, weight = 'bold', labelpad=10);"
      ],
      "execution_count": null,
      "outputs": [
        {
          "output_type": "display_data",
          "data": {
            "image/png": "[encoded data removed]",
            "text/plain": [
              "<Figure size 1100x600 with 1 Axes>"
            ]
          },
          "metadata": {
            "tags": []
          }
        }
      ]
    },
    {
      "cell_type": "code",
      "metadata": {
        "id": "yDMWVtAvW8L4",
        "colab_type": "code",
        "colab": {
          "base_uri": "https://localhost:8080/",
          "height": 520
        },
        "outputId": "c1af8787-3395-4de8-e542-1850bcf3f3fe"
      },
      "source": [
        "#__________________________________________________________________\n",
        "# function that extract statistical parameters from a grouby objet:\n",
        "def get_stats(group):\n",
        "    return {'min': group.min(), 'max': group.max(),\n",
        "            'count': group.count(), 'mean': group.mean()}\n",
        "#_______________________________________________________________\n",
        "# Creation of a dataframe with statitical infos on each airline:\n",
        "global_stats = df['DEPARTURE_DELAY'].groupby(df['AIRLINE']).apply(get_stats).unstack()\n",
        "global_stats = global_stats.sort_values('count')\n",
        "global_stats"
      ],
      "execution_count": null,
      "outputs": [
        {
          "output_type": "execute_result",
          "data": {
            "text/html": [
              "<div>\n",
              "<style scoped>\n",
              "    .dataframe tbody tr th:only-of-type {\n",
              "        vertical-align: middle;\n",
              "    }\n",
              "\n",
              "    .dataframe tbody tr th {\n",
              "        vertical-align: top;\n",
              "    }\n",
              "\n",
              "    .dataframe thead th {\n",
              "        text-align: right;\n",
              "    }\n",
              "</style>\n",
              "<table border=\"1\" class=\"dataframe\">\n",
              "  <thead>\n",
              "    <tr style=\"text-align: right;\">\n",
              "      <th></th>\n",
              "      <th>min</th>\n",
              "      <th>max</th>\n",
              "      <th>count</th>\n",
              "      <th>mean</th>\n",
              "    </tr>\n",
              "    <tr>\n",
              "      <th>AIRLINE</th>\n",
              "      <th></th>\n",
              "      <th></th>\n",
              "      <th></th>\n",
              "      <th></th>\n",
              "    </tr>\n",
              "  </thead>\n",
              "  <tbody>\n",
              "    <tr>\n",
              "      <th>VX</th>\n",
              "      <td>-24.0</td>\n",
              "      <td>644.0</td>\n",
              "      <td>61385.0</td>\n",
              "      <td>9.022595</td>\n",
              "    </tr>\n",
              "    <tr>\n",
              "      <th>HA</th>\n",
              "      <td>-27.0</td>\n",
              "      <td>1433.0</td>\n",
              "      <td>76119.0</td>\n",
              "      <td>0.485713</td>\n",
              "    </tr>\n",
              "    <tr>\n",
              "      <th>F9</th>\n",
              "      <td>-46.0</td>\n",
              "      <td>1112.0</td>\n",
              "      <td>90290.0</td>\n",
              "      <td>13.350858</td>\n",
              "    </tr>\n",
              "    <tr>\n",
              "      <th>NK</th>\n",
              "      <td>-37.0</td>\n",
              "      <td>836.0</td>\n",
              "      <td>115454.0</td>\n",
              "      <td>15.944766</td>\n",
              "    </tr>\n",
              "    <tr>\n",
              "      <th>AS</th>\n",
              "      <td>-82.0</td>\n",
              "      <td>963.0</td>\n",
              "      <td>171910.0</td>\n",
              "      <td>1.785801</td>\n",
              "    </tr>\n",
              "    <tr>\n",
              "      <th>US</th>\n",
              "      <td>-35.0</td>\n",
              "      <td>759.0</td>\n",
              "      <td>194825.0</td>\n",
              "      <td>6.141137</td>\n",
              "    </tr>\n",
              "    <tr>\n",
              "      <th>B6</th>\n",
              "      <td>-31.0</td>\n",
              "      <td>1006.0</td>\n",
              "      <td>262843.0</td>\n",
              "      <td>11.514353</td>\n",
              "    </tr>\n",
              "    <tr>\n",
              "      <th>MQ</th>\n",
              "      <td>-36.0</td>\n",
              "      <td>1544.0</td>\n",
              "      <td>280282.0</td>\n",
              "      <td>10.125188</td>\n",
              "    </tr>\n",
              "    <tr>\n",
              "      <th>UA</th>\n",
              "      <td>-40.0</td>\n",
              "      <td>1314.0</td>\n",
              "      <td>509534.0</td>\n",
              "      <td>14.435441</td>\n",
              "    </tr>\n",
              "    <tr>\n",
              "      <th>EV</th>\n",
              "      <td>-55.0</td>\n",
              "      <td>1274.0</td>\n",
              "      <td>557294.0</td>\n",
              "      <td>8.715934</td>\n",
              "    </tr>\n",
              "    <tr>\n",
              "      <th>OO</th>\n",
              "      <td>-56.0</td>\n",
              "      <td>1378.0</td>\n",
              "      <td>579086.0</td>\n",
              "      <td>7.801104</td>\n",
              "    </tr>\n",
              "    <tr>\n",
              "      <th>AA</th>\n",
              "      <td>-68.0</td>\n",
              "      <td>1988.0</td>\n",
              "      <td>715598.0</td>\n",
              "      <td>8.900856</td>\n",
              "    </tr>\n",
              "    <tr>\n",
              "      <th>DL</th>\n",
              "      <td>-61.0</td>\n",
              "      <td>1289.0</td>\n",
              "      <td>872177.0</td>\n",
              "      <td>7.369254</td>\n",
              "    </tr>\n",
              "    <tr>\n",
              "      <th>WN</th>\n",
              "      <td>-28.0</td>\n",
              "      <td>665.0</td>\n",
              "      <td>1246129.0</td>\n",
              "      <td>10.581986</td>\n",
              "    </tr>\n",
              "  </tbody>\n",
              "</table>\n",
              "</div>"
            ],
            "text/plain": [
              "          min     max      count       mean\n",
              "AIRLINE                                    \n",
              "VX      -24.0   644.0    61385.0   9.022595\n",
              "HA      -27.0  1433.0    76119.0   0.485713\n",
              "F9      -46.0  1112.0    90290.0  13.350858\n",
              "NK      -37.0   836.0   115454.0  15.944766\n",
              "AS      -82.0   963.0   171910.0   1.785801\n",
              "US      -35.0   759.0   194825.0   6.141137\n",
              "B6      -31.0  1006.0   262843.0  11.514353\n",
              "MQ      -36.0  1544.0   280282.0  10.125188\n",
              "UA      -40.0  1314.0   509534.0  14.435441\n",
              "EV      -55.0  1274.0   557294.0   8.715934\n",
              "OO      -56.0  1378.0   579086.0   7.801104\n",
              "AA      -68.0  1988.0   715598.0   8.900856\n",
              "DL      -61.0  1289.0   872177.0   7.369254\n",
              "WN      -28.0   665.0  1246129.0  10.581986"
            ]
          },
          "metadata": {
            "tags": []
          },
          "execution_count": 17
        }
      ]
    },
    {
      "cell_type": "markdown",
      "metadata": {
        "id": "0nSmsuKeXLCe",
        "colab_type": "text"
      },
      "source": [
        "# Number of flights with delay as small and large and on-time"
      ]
    },
    {
      "cell_type": "code",
      "metadata": {
        "id": "0q8-gNGxWU6W",
        "colab_type": "code",
        "colab": {
          "base_uri": "https://localhost:8080/",
          "height": 637
        },
        "outputId": "6c80ee02-d894-4a69-c0c1-50c59832c949"
      },
      "source": [
        "#_____________________________________________\n",
        "# Function that define how delays are grouped\n",
        "delay_type = lambda x:((0,1)[x > 5],2)[x > 45]\n",
        "df['DELAY_LEVEL'] = df['DEPARTURE_DELAY'].apply(delay_type)\n",
        "#____________________________________________________\n",
        "fig = plt.figure(1, figsize=(10,7))\n",
        "ax = sns.countplot(y=\"AIRLINE\", hue='DELAY_LEVEL', data=df)\n",
        "#____________________________________________________________________________________\n",
        "# We replace the abbreviations by the full names of the companies and set the labels\n",
        "labels = [abbr_companies[item.get_text()] for item in ax.get_yticklabels()]\n",
        "ax.set_yticklabels(labels)\n",
        "plt.setp(ax.get_xticklabels(), fontsize=12, weight = 'normal', rotation = 0);\n",
        "plt.setp(ax.get_yticklabels(), fontsize=12, weight = 'bold', rotation = 0);\n",
        "ax.yaxis.label.set_visible(False)\n",
        "plt.xlabel('Flight count', fontsize=16, weight = 'bold', labelpad=10)\n",
        "#________________\n",
        "# Set the legend\n",
        "L = plt.legend()\n",
        "L.get_texts()[0].set_text('on time (t < 5 min)')\n",
        "L.get_texts()[1].set_text('small delay (5 < t < 45 min)')\n",
        "L.get_texts()[2].set_text('large delay (t > 45 min)')\n",
        "plt.show()"
      ],
      "execution_count": null,
      "outputs": [
        {
          "output_type": "display_data",
          "data": {
            "image/png": "[encoded data removed]",
            "text/plain": [
              "<Figure size 1000x700 with 1 Axes>"
            ]
          },
          "metadata": {
            "tags": []
          }
        }
      ]
    },
    {
      "cell_type": "markdown",
      "metadata": {
        "id": "bZthgJl6IIS3",
        "colab_type": "text"
      },
      "source": [
        "## Predicting Flight Delay \n",
        "### Used American Airline (AA) for predicting\n",
        "\n",
        "Taken training set before date 4th April, 2015 and trying to predict delay after that Date."
      ]
    },
    {
      "cell_type": "code",
      "metadata": {
        "id": "_tphznoeKXOz",
        "colab_type": "code",
        "colab": {
          "base_uri": "https://localhost:8080/",
          "height": 237
        },
        "outputId": "3ea26da9-f57b-4ce8-dbde-0166f4d7d394"
      },
      "source": [
        "df_train = df[df['SCHEDULED_DEPARTURE'].apply(lambda x:x.date()) < datetime.date(2015, 4, 4)]\n",
        "df_test  = df[df['SCHEDULED_DEPARTURE'].apply(lambda x:x.date()) > datetime.date(2015, 4, 4)]\n",
        "df = df_train\n",
        "df['SCHEDULED_DEPARTURE']"
      ],
      "execution_count": null,
      "outputs": [
        {
          "output_type": "execute_result",
          "data": {
            "text/plain": [
              "0         2015-01-01 00:05:00\n",
              "1         2015-01-01 00:10:00\n",
              "2         2015-01-01 00:20:00\n",
              "3         2015-01-01 00:20:00\n",
              "4         2015-01-01 00:25:00\n",
              "                  ...        \n",
              "1454081   2015-04-03 23:59:00\n",
              "1454082   2015-04-03 23:59:00\n",
              "1454083   2015-04-03 23:59:00\n",
              "1454084   2015-04-03 23:59:00\n",
              "1454085   2015-04-03 23:59:00\n",
              "Name: SCHEDULED_DEPARTURE, Length: 1454086, dtype: datetime64[ns]"
            ]
          },
          "metadata": {
            "tags": []
          },
          "execution_count": 19
        }
      ]
    },
    {
      "cell_type": "code",
      "metadata": {
        "id": "ft2gb7kcPdoI",
        "colab_type": "code",
        "colab": {}
      },
      "source": [
        "def create_df(df, carrier):\n",
        "    df2 = df[df['AIRLINE'] == carrier][['SCHEDULED_DEPARTURE','SCHEDULED_ARRIVAL',\n",
        "                                    'ORIGIN_AIRPORT','DESTINATION_AIRPORT','DEPARTURE_DELAY']]\n",
        "    df2.dropna(how = 'any', inplace = True)\n",
        "    df2['weekday'] = df2['SCHEDULED_DEPARTURE'].apply(lambda x:x.weekday())\n",
        "    #____________________\n",
        "    # delete delays > 1h beacuse it will be outlier and can affect the accuracy of model\n",
        "    df2['DEPARTURE_DELAY'] = df2['DEPARTURE_DELAY'].apply(lambda x:x if x < 60 else np.nan)\n",
        "    df2.dropna(how = 'any', inplace = True)\n",
        "    #_________________\n",
        "    # formating times\n",
        "    fct = lambda x:x.hour*3600+x.minute*60+x.second\n",
        "    df2['formated_depart'] = df2['SCHEDULED_DEPARTURE'].apply(lambda x:x.time())\n",
        "    df2['formated_depart'] = df2['formated_depart'].apply(fct)\n",
        "    df2['formated_arrivee'] = df2['SCHEDULED_ARRIVAL'].apply(fct)\n",
        "    df3 = df2.groupby(['formated_depart', 'formated_arrivee', 'ORIGIN_AIRPORT'],\n",
        "                      as_index = False).mean()\n",
        "    return df3"
      ],
      "execution_count": null,
      "outputs": []
    },
    {
      "cell_type": "code",
      "metadata": {
        "id": "-Fflu-j2XEc6",
        "colab_type": "code",
        "colab": {
          "base_uri": "https://localhost:8080/",
          "height": 206
        },
        "outputId": "d602a0d7-74fd-47f4-89e5-e97bdfb6cd16"
      },
      "source": [
        "carrier = 'US'\n",
        "df3 = create_df(df, carrier)    \n",
        "df3[:5]"
      ],
      "execution_count": null,
      "outputs": [
        {
          "output_type": "execute_result",
          "data": {
            "text/html": [
              "<div>\n",
              "<style scoped>\n",
              "    .dataframe tbody tr th:only-of-type {\n",
              "        vertical-align: middle;\n",
              "    }\n",
              "\n",
              "    .dataframe tbody tr th {\n",
              "        vertical-align: top;\n",
              "    }\n",
              "\n",
              "    .dataframe thead th {\n",
              "        text-align: right;\n",
              "    }\n",
              "</style>\n",
              "<table border=\"1\" class=\"dataframe\">\n",
              "  <thead>\n",
              "    <tr style=\"text-align: right;\">\n",
              "      <th></th>\n",
              "      <th>formated_depart</th>\n",
              "      <th>formated_arrivee</th>\n",
              "      <th>ORIGIN_AIRPORT</th>\n",
              "      <th>DEPARTURE_DELAY</th>\n",
              "      <th>weekday</th>\n",
              "    </tr>\n",
              "  </thead>\n",
              "  <tbody>\n",
              "    <tr>\n",
              "      <th>0</th>\n",
              "      <td>600</td>\n",
              "      <td>22440</td>\n",
              "      <td>SLC</td>\n",
              "      <td>7.333333</td>\n",
              "      <td>3.0</td>\n",
              "    </tr>\n",
              "    <tr>\n",
              "      <th>1</th>\n",
              "      <td>900</td>\n",
              "      <td>4500</td>\n",
              "      <td>CLT</td>\n",
              "      <td>-5.000000</td>\n",
              "      <td>6.0</td>\n",
              "    </tr>\n",
              "    <tr>\n",
              "      <th>2</th>\n",
              "      <td>900</td>\n",
              "      <td>5220</td>\n",
              "      <td>CLT</td>\n",
              "      <td>-4.000000</td>\n",
              "      <td>6.0</td>\n",
              "    </tr>\n",
              "    <tr>\n",
              "      <th>3</th>\n",
              "      <td>900</td>\n",
              "      <td>7680</td>\n",
              "      <td>CLT</td>\n",
              "      <td>-5.000000</td>\n",
              "      <td>6.0</td>\n",
              "    </tr>\n",
              "    <tr>\n",
              "      <th>4</th>\n",
              "      <td>900</td>\n",
              "      <td>20940</td>\n",
              "      <td>PHX</td>\n",
              "      <td>-3.000000</td>\n",
              "      <td>1.0</td>\n",
              "    </tr>\n",
              "  </tbody>\n",
              "</table>\n",
              "</div>"
            ],
            "text/plain": [
              "   formated_depart  formated_arrivee ORIGIN_AIRPORT  DEPARTURE_DELAY  weekday\n",
              "0              600             22440            SLC         7.333333      3.0\n",
              "1              900              4500            CLT        -5.000000      6.0\n",
              "2              900              5220            CLT        -4.000000      6.0\n",
              "3              900              7680            CLT        -5.000000      6.0\n",
              "4              900             20940            PHX        -3.000000      1.0"
            ]
          },
          "metadata": {
            "tags": []
          },
          "execution_count": 21
        }
      ]
    },
    {
      "cell_type": "code",
      "metadata": {
        "id": "pOKNRnTGXGv5",
        "colab_type": "code",
        "colab": {}
      },
      "source": [
        "label_encoder = LabelEncoder()\n",
        "integer_encoded = label_encoder.fit_transform(df3['ORIGIN_AIRPORT'])\n",
        "#_________________________________________________________\n",
        "zipped = zip(integer_encoded, df3['ORIGIN_AIRPORT'])\n",
        "label_airports = list(set(list(zipped)))\n",
        "label_airports.sort(key = lambda x:x[0])\n",
        "#_________________________________________________\n",
        "onehot_encoder = OneHotEncoder(sparse=False)\n",
        "integer_encoded = integer_encoded.reshape(len(integer_encoded), 1)\n",
        "onehot_encoded = onehot_encoder.fit_transform(integer_encoded)\n",
        "#_________________________________________________\n",
        "b = np.array(df3[['formated_depart', 'formated_arrivee']])\n",
        "X = np.hstack((onehot_encoded, b))\n",
        "Y = np.array(df3['DEPARTURE_DELAY'])\n",
        "Y = Y.reshape(len(Y), 1)"
      ],
      "execution_count": null,
      "outputs": []
    },
    {
      "cell_type": "code",
      "metadata": {
        "id": "0rOX5HmkXOp-",
        "colab_type": "code",
        "colab": {}
      },
      "source": [
        "X_train, X_test, Y_train, Y_test = train_test_split(X, Y, test_size=0.3)"
      ],
      "execution_count": null,
      "outputs": []
    },
    {
      "cell_type": "code",
      "metadata": {
        "id": "h6MpFJraXUUl",
        "colab_type": "code",
        "colab": {
          "base_uri": "https://localhost:8080/",
          "height": 384
        },
        "outputId": "d8b1d5cd-1df1-4448-8d71-bc24568428b5"
      },
      "source": [
        "score_min = 10000\n",
        "for pol_order in range(1, 3):\n",
        "    for alpha in range(0, 20, 2):\n",
        "        ridgereg = Ridge(alpha = alpha/10, normalize=True)\n",
        "        poly = PolynomialFeatures(degree = pol_order)\n",
        "        regr = linear_model.LinearRegression()\n",
        "        X_ = poly.fit_transform(X_train)\n",
        "        ridgereg.fit(X_, Y_train)\n",
        "        \n",
        "        X_ = poly.fit_transform(X_test)\n",
        "        result = ridgereg.predict(X_)\n",
        "        score = metrics.mean_squared_error(result, Y_test)\n",
        "        \n",
        "        if score < score_min:\n",
        "            score_min = score\n",
        "            parameters = [alpha, pol_order]\n",
        "\n",
        "        print(\"n={} alpha={} , MSE = {:<0.5}\".format(pol_order, alpha/10, score))"
      ],
      "execution_count": null,
      "outputs": [
        {
          "output_type": "stream",
          "text": [
            "n=1 alpha=0.0 , MSE = 3.5758e+24\n",
            "n=1 alpha=0.2 , MSE = 47.611\n",
            "n=1 alpha=0.4 , MSE = 47.879\n",
            "n=1 alpha=0.6 , MSE = 48.18\n",
            "n=1 alpha=0.8 , MSE = 48.482\n",
            "n=1 alpha=1.0 , MSE = 48.772\n",
            "n=1 alpha=1.2 , MSE = 49.043\n",
            "n=1 alpha=1.4 , MSE = 49.296\n",
            "n=1 alpha=1.6 , MSE = 49.529\n",
            "n=1 alpha=1.8 , MSE = 49.744\n",
            "n=2 alpha=0.0 , MSE = 6.1455e+25\n",
            "n=2 alpha=0.2 , MSE = 47.174\n",
            "n=2 alpha=0.4 , MSE = 47.278\n",
            "n=2 alpha=0.6 , MSE = 47.384\n",
            "n=2 alpha=0.8 , MSE = 47.489\n",
            "n=2 alpha=1.0 , MSE = 47.592\n",
            "n=2 alpha=1.2 , MSE = 47.695\n",
            "n=2 alpha=1.4 , MSE = 47.799\n",
            "n=2 alpha=1.6 , MSE = 47.902\n",
            "n=2 alpha=1.8 , MSE = 48.004\n"
          ],
          "name": "stdout"
        }
      ]
    },
    {
      "cell_type": "markdown",
      "metadata": {
        "id": "7JXy4pUeTYKo",
        "colab_type": "text"
      },
      "source": [
        "\\begin{eqnarray}\n",
        "y_i - f(x_i) = \\sqrt{MSE}\n",
        "\\end{eqnarray}\n",
        "\n",
        "### It is actually giving the average delay.\n"
      ]
    },
    {
      "cell_type": "code",
      "metadata": {
        "id": "pFd-kr2lXcUO",
        "colab_type": "code",
        "colab": {
          "base_uri": "https://localhost:8080/",
          "height": 35
        },
        "outputId": "b8e82494-d5c4-46cc-e734-3876382899e4"
      },
      "source": [
        "ridgereg = Ridge(alpha = parameters[0], normalize=True)\n",
        "poly = PolynomialFeatures(degree = parameters[1])\n",
        "X_ = poly.fit_transform(X)\n",
        "ridgereg.fit(X_, Y)\n",
        "result = ridgereg.predict(X_)\n",
        "score = metrics.mean_squared_error(result, Y)        \n",
        "print(score)"
      ],
      "execution_count": null,
      "outputs": [
        {
          "output_type": "stream",
          "text": [
            "51.103457143821146\n"
          ],
          "name": "stdout"
        }
      ]
    },
    {
      "cell_type": "markdown",
      "metadata": {
        "id": "j8X2kNkCQTKv",
        "colab_type": "text"
      },
      "source": [
        "# Testing"
      ]
    },
    {
      "cell_type": "code",
      "metadata": {
        "id": "Xx7C0xvZ1CNy",
        "colab_type": "code",
        "colab": {}
      },
      "source": [
        "def predictMeanDelay(airline):\n",
        "  carrier = airline\n",
        "  df3 = create_df(df, carrier)    \n",
        "  df3[:5]\n",
        "  label_encoder = LabelEncoder()\n",
        "  integer_encoded = label_encoder.fit_transform(df3['ORIGIN_AIRPORT'])\n",
        "  #_________________________________________________________\n",
        "  zipped = zip(integer_encoded, df3['ORIGIN_AIRPORT'])\n",
        "  label_airports = list(set(list(zipped)))\n",
        "  label_airports.sort(key = lambda x:x[0])\n",
        "  #_________________________________________________\n",
        "  onehot_encoder = OneHotEncoder(sparse=False)\n",
        "  integer_encoded = integer_encoded.reshape(len(integer_encoded), 1)\n",
        "  onehot_encoded = onehot_encoder.fit_transform(integer_encoded)\n",
        "  #_________________________________________________\n",
        "  b = np.array(df3[['formated_depart', 'formated_arrivee']])\n",
        "  X = np.hstack((onehot_encoded, b))\n",
        "  Y = np.array(df3['DEPARTURE_DELAY'])\n",
        "  Y = Y.reshape(len(Y), 1)\n",
        "  X_train, X_test, Y_train, Y_test = train_test_split(X, Y, test_size=0.3)\n",
        "  score_min = 10000\n",
        "  for pol_order in range(1, 3):\n",
        "      for alpha in range(0, 20, 2):\n",
        "          ridgereg = Ridge(alpha = alpha/10, normalize=True)\n",
        "          poly = PolynomialFeatures(degree = pol_order)\n",
        "          regr = linear_model.LinearRegression()\n",
        "          X_ = poly.fit_transform(X_train)\n",
        "          ridgereg.fit(X_, Y_train)\n",
        "          \n",
        "          X_ = poly.fit_transform(X_test)\n",
        "          result = ridgereg.predict(X_)\n",
        "          score = metrics.mean_squared_error(result, Y_test)\n",
        "          \n",
        "          if score < score_min:\n",
        "              score_min = score\n",
        "              parameters = [alpha, pol_order]\n",
        "\n",
        "          #print(\"n={} alpha={} , MSE = {:<0.5}\".format(pol_order, alpha/10, score))\n",
        "  ridgereg = Ridge(alpha = parameters[0], normalize=True)\n",
        "  poly = PolynomialFeatures(degree = parameters[1])\n",
        "  X_ = poly.fit_transform(X)\n",
        "  ridgereg.fit(X_, Y)\n",
        "  result = ridgereg.predict(X_)\n",
        "  score = metrics.mean_squared_error(result, Y)        \n",
        "  #print(score)\n",
        "  df3 = create_df(df_test, carrier)    \n",
        "  df3[:5]\n",
        "  label_conversion = dict()\n",
        "  for s in label_airports:\n",
        "      label_conversion[s[1]] = s[0]\n",
        "\n",
        "  df3['ORIGIN_AIRPORT'].replace(label_conversion, inplace = True)\n",
        "\n",
        "  for index, label in label_airports:\n",
        "      temp = df3['ORIGIN_AIRPORT'] == index\n",
        "      temp = temp.apply(lambda x:1.0 if x else 0.0)\n",
        "      if index == 0:\n",
        "          matrix = np.array(temp)\n",
        "      else:\n",
        "          matrix = np.vstack((matrix, temp))\n",
        "  matrix = matrix.T\n",
        "\n",
        "  b = np.array(df3[['formated_depart', 'formated_arrivee']])\n",
        "  X_test = np.hstack((matrix, b))\n",
        "  Y_test = np.array(df3['DEPARTURE_DELAY'])\n",
        "  Y_test = Y_test.reshape(len(Y_test), 1)\n",
        "  X_ = poly.fit_transform(X_test)\n",
        "  result = ridgereg.predict(X_)\n",
        "  score = metrics.mean_squared_error(result, Y_test)\n",
        "  #print('MSE = {}'.format(round(score, 2)))\n",
        "  result = 'Avg Delay expected is {:.2f} min'.format(np.sqrt(score))\n",
        "  return result"
      ],
      "execution_count": null,
      "outputs": []
    },
    {
      "cell_type": "code",
      "metadata": {
        "id": "SUA6eGZI18lS",
        "colab_type": "code",
        "colab": {
          "base_uri": "https://localhost:8080/",
          "height": 35
        },
        "outputId": "855d6186-0ad3-4ae4-f90b-cd03908ee7df"
      },
      "source": [
        "predictMeanDelay('US')"
      ],
      "execution_count": null,
      "outputs": [
        {
          "output_type": "execute_result",
          "data": {
            "text/plain": [
              "'Avg Delay expected is 5.96 min'"
            ]
          },
          "metadata": {
            "tags": []
          },
          "execution_count": 27
        }
      ]
    },
    {
      "cell_type": "code",
      "metadata": {
        "id": "ZcGfz3XsQxWZ",
        "colab_type": "code",
        "colab": {
          "base_uri": "https://localhost:8080/",
          "height": 439
        },
        "outputId": "ea62a4e1-55af-4ff0-adfa-994fad456eaf"
      },
      "source": [
        "!pip install flask-ngrok\n",
        "from flask_ngrok import run_with_ngrok\n",
        "from flask import Flask, request, redirect, url_for, jsonify\n",
        "import random\n",
        "app = Flask(__name__)\n",
        "run_with_ngrok(app)   #starts ngrok when the app is run\n",
        "\n",
        "airlinesList = ['US','UA','AA','F9','B6']\n",
        "\n",
        "@app.route(\"/\")\n",
        "def home():\n",
        "  return \"Hello from the other side :)\"\n",
        "@app.route(\"/getAccuracy\")\n",
        "def get_accuracy():\n",
        "  return str(\"Farji data\")\n",
        "@app.route(\"/dataSent\")\n",
        "def showDataReceived(name):\n",
        "  return jsonify(name)\n",
        "@app.route(\"/sendFormData\", methods=['POST','GET'])\n",
        "def getFormData():\n",
        "  if request.method == 'POST' :\n",
        "    dateTime = request.form['dateTime']\n",
        "    origin = request.form['origin']\n",
        "    destination = request.form['dest']\n",
        "    \n",
        "  if request.method == \"GET\" :\n",
        "    dateTime = request.args.get('dateTime')\n",
        "    origin = request.args.get('origin')\n",
        "    destination = request.args.get('dest')\n",
        "  return predictMeanDelay(random.choice(airlinesList))\n",
        "  # return redirect(url_for(\"get_accuracy\",dateTime=dateTime,origin=origin,destination=destination))\n",
        "app.run()"
      ],
      "execution_count": null,
      "outputs": [
        {
          "output_type": "stream",
          "text": [
            "Collecting flask-ngrok\n",
            "  Downloading https://files.pythonhosted.org/packages/af/6c/f54cb686ad1129e27d125d182f90f52b32f284e6c8df58c1bae54fa1adbc/flask_ngrok-0.0.25-py3-none-any.whl\n",
            "Requirement already satisfied: Flask>=0.8 in /usr/local/lib/python3.6/dist-packages (from flask-ngrok) (1.1.2)\n",
            "Requirement already satisfied: requests in /usr/local/lib/python3.6/dist-packages (from flask-ngrok) (2.21.0)\n",
            "Requirement already satisfied: Jinja2>=2.10.1 in /usr/local/lib/python3.6/dist-packages (from Flask>=0.8->flask-ngrok) (2.11.2)\n",
            "Requirement already satisfied: Werkzeug>=0.15 in /usr/local/lib/python3.6/dist-packages (from Flask>=0.8->flask-ngrok) (1.0.1)\n",
            "Requirement already satisfied: click>=5.1 in /usr/local/lib/python3.6/dist-packages (from Flask>=0.8->flask-ngrok) (7.1.1)\n",
            "Requirement already satisfied: itsdangerous>=0.24 in /usr/local/lib/python3.6/dist-packages (from Flask>=0.8->flask-ngrok) (1.1.0)\n",
            "Requirement already satisfied: idna<2.9,>=2.5 in /usr/local/lib/python3.6/dist-packages (from requests->flask-ngrok) (2.8)\n",
            "Requirement already satisfied: chardet<3.1.0,>=3.0.2 in /usr/local/lib/python3.6/dist-packages (from requests->flask-ngrok) (3.0.4)\n",
            "Requirement already satisfied: urllib3<1.25,>=1.21.1 in /usr/local/lib/python3.6/dist-packages (from requests->flask-ngrok) (1.24.3)\n",
            "Requirement already satisfied: certifi>=2017.4.17 in /usr/local/lib/python3.6/dist-packages (from requests->flask-ngrok) (2020.4.5.1)\n",
            "Requirement already satisfied: MarkupSafe>=0.23 in /usr/local/lib/python3.6/dist-packages (from Jinja2>=2.10.1->Flask>=0.8->flask-ngrok) (1.1.1)\n",
            "Installing collected packages: flask-ngrok\n",
            "Successfully installed flask-ngrok-0.0.25\n",
            " * Serving Flask app \"__main__\" (lazy loading)\n",
            " * Environment: production\n",
            "\u001b[31m   WARNING: This is a development server. Do not use it in a production deployment.\u001b[0m\n",
            "\u001b[2m   Use a production WSGI server instead.\u001b[0m\n",
            " * Debug mode: off\n"
          ],
          "name": "stdout"
        },
        {
          "output_type": "stream",
          "text": [
            " * Running on http://127.0.0.1:5000/ (Press CTRL+C to quit)\n"
          ],
          "name": "stderr"
        },
        {
          "output_type": "stream",
          "text": [
            " * Running on http://2cecac0e.ngrok.io\n",
            " * Traffic stats available on http://127.0.0.1:4040\n"
          ],
          "name": "stdout"
        }
      ]
    },
    {
      "cell_type": "markdown",
      "metadata": {
        "id": "ulD7ZNBPxzbV",
        "colab_type": "text"
      },
      "source": [
        "# Using other model"
      ]
    },
    {
      "cell_type": "code",
      "metadata": {
        "id": "t516KalUx4mF",
        "colab_type": "code",
        "colab": {}
      },
      "source": [
        "df.head()"
      ],
      "execution_count": null,
      "outputs": []
    },
    {
      "cell_type": "code",
      "metadata": {
        "id": "cS3JYkhcx9eA",
        "colab_type": "code",
        "colab": {}
      },
      "source": [
        "df.shape"
      ],
      "execution_count": null,
      "outputs": []
    },
    {
      "cell_type": "code",
      "metadata": {
        "id": "XCppFd4RyCv7",
        "colab_type": "code",
        "colab": {}
      },
      "source": [
        "df.isnull().values.any()"
      ],
      "execution_count": null,
      "outputs": []
    },
    {
      "cell_type": "code",
      "metadata": {
        "id": "Q6WjGxZWyGD0",
        "colab_type": "code",
        "colab": {}
      },
      "source": [
        "df.isnull().sum()"
      ],
      "execution_count": null,
      "outputs": []
    },
    {
      "cell_type": "code",
      "metadata": {
        "id": "KZf2068WyIp3",
        "colab_type": "code",
        "colab": {}
      },
      "source": [
        "df[df.isnull().values.any(axis=1)].head()"
      ],
      "execution_count": null,
      "outputs": []
    },
    {
      "cell_type": "code",
      "metadata": {
        "id": "8Y5jeid2yebB",
        "colab_type": "code",
        "colab": {}
      },
      "source": [
        "df = df.fillna({'ARRIVAL_DELAY': 1})\n",
        "df.iloc[177:185]"
      ],
      "execution_count": null,
      "outputs": []
    },
    {
      "cell_type": "code",
      "metadata": {
        "id": "AKYDPKQ9yrB6",
        "colab_type": "code",
        "colab": {}
      },
      "source": [
        "df.head()"
      ],
      "execution_count": null,
      "outputs": []
    },
    {
      "cell_type": "code",
      "metadata": {
        "id": "k1nbJBsjywq9",
        "colab_type": "code",
        "colab": {}
      },
      "source": [
        "import math\n",
        "\n",
        "for index, row in df.iterrows():\n",
        "    df.loc[index, 'SCHEDULED_TIME'] = math.floor(row['SCHEDULED_TIME'] / 100)\n",
        "df.head()"
      ],
      "execution_count": null,
      "outputs": []
    },
    {
      "cell_type": "code",
      "metadata": {
        "id": "k3S3Fe5FzYZ0",
        "colab_type": "code",
        "colab": {}
      },
      "source": [
        ""
      ],
      "execution_count": null,
      "outputs": []
    }
  ]
}